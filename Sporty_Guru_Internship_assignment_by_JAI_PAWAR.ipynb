{
  "nbformat": 4,
  "nbformat_minor": 0,
  "metadata": {
    "colab": {
      "name": "Sporty Guru Internship assignment by JAI PAWAR",
      "provenance": [],
      "authorship_tag": "ABX9TyPjzLUFdYJ5VB2xnfdFukML",
      "include_colab_link": true
    },
    "kernelspec": {
      "name": "python3",
      "display_name": "Python 3"
    },
    "language_info": {
      "name": "python"
    }
  },
  "cells": [
    {
      "cell_type": "markdown",
      "metadata": {
        "id": "view-in-github",
        "colab_type": "text"
      },
      "source": [
        "<a href=\"https://colab.research.google.com/github/JP109/Assignment/blob/main/Sporty_Guru_Internship_assignment_by_JAI_PAWAR.ipynb\" target=\"_parent\"><img src=\"https://colab.research.google.com/assets/colab-badge.svg\" alt=\"Open In Colab\"/></a>"
      ]
    },
    {
      "cell_type": "markdown",
      "source": [
        "### Imports"
      ],
      "metadata": {
        "id": "sQ2BFkvwnzyw"
      }
    },
    {
      "cell_type": "code",
      "execution_count": 1,
      "metadata": {
        "id": "2YTbTvdZnhUF"
      },
      "outputs": [],
      "source": [
        "import numpy as np\n",
        "import pandas as pd\n",
        "import tensorflow as tf\n",
        "import matplotlib.pyplot as plt"
      ]
    },
    {
      "cell_type": "markdown",
      "source": [
        "### Load Data"
      ],
      "metadata": {
        "id": "8soPMu27n9I8"
      }
    },
    {
      "cell_type": "code",
      "source": [
        "(x_train, y_train), (x_test, y_test) = tf.keras.datasets.cifar10.load_data()"
      ],
      "metadata": {
        "colab": {
          "base_uri": "https://localhost:8080/"
        },
        "id": "eiE0LuT1n6hb",
        "outputId": "d4cabea1-eaa0-4887-d64f-a2cee2f5fa98"
      },
      "execution_count": 2,
      "outputs": [
        {
          "output_type": "stream",
          "name": "stdout",
          "text": [
            "Downloading data from https://www.cs.toronto.edu/~kriz/cifar-10-python.tar.gz\n",
            "170500096/170498071 [==============================] - 11s 0us/step\n",
            "170508288/170498071 [==============================] - 11s 0us/step\n"
          ]
        }
      ]
    },
    {
      "cell_type": "markdown",
      "source": [
        "### Define Config variables"
      ],
      "metadata": {
        "id": "xdYaXkewoUoK"
      }
    },
    {
      "cell_type": "code",
      "source": [
        "EPOCHS = 50\n",
        "IMAGE_SHAPE = 32\n",
        "IMAGE_CHANNELS = 3"
      ],
      "metadata": {
        "id": "pw_36J14oT6j"
      },
      "execution_count": 13,
      "outputs": []
    },
    {
      "cell_type": "markdown",
      "source": [
        "### Net A"
      ],
      "metadata": {
        "id": "pBwlAR3ooDs9"
      }
    },
    {
      "cell_type": "code",
      "source": [
        "class NetA():\n",
        "  \"\"\"Instantiates netA with only a Flatten and Dense layer\"\"\"\n",
        "  def __init__(self):\n",
        "    self.model = None\n",
        "    self.create_model()\n",
        "\n",
        "  def create_model(self):\n",
        "    input = tf.keras.layers.Input(shape=(IMAGE_SHAPE,IMAGE_SHAPE,IMAGE_CHANNELS))\n",
        "    x = tf.keras.layers.Flatten()(input)\n",
        "    x = tf.keras.layers.Dense(10)(x)\n",
        "\n",
        "    self.model = tf.keras.models.Model(inputs=input, outputs=x)"
      ],
      "metadata": {
        "id": "o7L5pQgboCqH"
      },
      "execution_count": 15,
      "outputs": []
    },
    {
      "cell_type": "code",
      "source": [
        "# Peek at model\n",
        "netA = NetA()\n",
        "netA.model.summary()\n",
        "tf.keras.utils.plot_model(netA.model)"
      ],
      "metadata": {
        "colab": {
          "base_uri": "https://localhost:8080/",
          "height": 532
        },
        "id": "7UKdjlafqwdK",
        "outputId": "e15192e4-aa9c-4e1f-a5c8-e23a9f48746e"
      },
      "execution_count": 16,
      "outputs": [
        {
          "output_type": "stream",
          "name": "stdout",
          "text": [
            "Model: \"model_5\"\n",
            "_________________________________________________________________\n",
            " Layer (type)                Output Shape              Param #   \n",
            "=================================================================\n",
            " input_6 (InputLayer)        [(None, 32, 32, 3)]       0         \n",
            "                                                                 \n",
            " flatten_5 (Flatten)         (None, 3072)              0         \n",
            "                                                                 \n",
            " dense_5 (Dense)             (None, 10)                30730     \n",
            "                                                                 \n",
            "=================================================================\n",
            "Total params: 30,730\n",
            "Trainable params: 30,730\n",
            "Non-trainable params: 0\n",
            "_________________________________________________________________\n"
          ]
        },
        {
          "output_type": "execute_result",
          "data": {
            "image/png": "[encoded data removed]",
            "text/plain": [
              "<IPython.core.display.Image object>"
            ]
          },
          "metadata": {},
          "execution_count": 16
        }
      ]
    },
    {
      "cell_type": "code",
      "source": [
        "# Compile model\n",
        "netA.model.compile(loss=\"sparse_categorical_crossentropy\", optimizer=\"adam\", metrics=['accuracy'])"
      ],
      "metadata": {
        "id": "23eLazdSrFHP"
      },
      "execution_count": 19,
      "outputs": []
    },
    {
      "cell_type": "code",
      "source": [
        "# Train model\n",
        "history_netA = netA.model.fit(x_train, y_train, validation_data=(x_test, y_test), epochs=EPOCHS, verbose=1)"
      ],
      "metadata": {
        "colab": {
          "base_uri": "https://localhost:8080/"
        },
        "id": "XuMNv5WqrRLn",
        "outputId": "4e8dd917-1297-4571-b081-ac9de6372519"
      },
      "execution_count": 20,
      "outputs": [
        {
          "output_type": "stream",
          "name": "stdout",
          "text": [
            "Epoch 1/50\n",
            "1563/1563 [==============================] - 8s 5ms/step - loss: 14.5064 - accuracy: 0.1000 - val_loss: 14.5063 - val_accuracy: 0.1000\n",
            "Epoch 2/50\n",
            "1563/1563 [==============================] - 7s 5ms/step - loss: 14.5064 - accuracy: 0.1000 - val_loss: 14.5063 - val_accuracy: 0.1000\n",
            "Epoch 3/50\n",
            "1563/1563 [==============================] - 9s 6ms/step - loss: 14.5064 - accuracy: 0.1000 - val_loss: 14.5063 - val_accuracy: 0.1000\n",
            "Epoch 4/50\n",
            "1563/1563 [==============================] - 7s 5ms/step - loss: 14.5064 - accuracy: 0.1000 - val_loss: 14.5063 - val_accuracy: 0.1000\n",
            "Epoch 5/50\n",
            "1563/1563 [==============================] - 6s 4ms/step - loss: 14.5064 - accuracy: 0.1000 - val_loss: 14.5063 - val_accuracy: 0.1000\n",
            "Epoch 6/50\n",
            "1563/1563 [==============================] - 6s 4ms/step - loss: 14.5064 - accuracy: 0.1000 - val_loss: 14.5063 - val_accuracy: 0.1000\n",
            "Epoch 7/50\n",
            "1563/1563 [==============================] - 6s 4ms/step - loss: 14.5064 - accuracy: 0.1000 - val_loss: 14.5063 - val_accuracy: 0.1000\n",
            "Epoch 8/50\n",
            "1563/1563 [==============================] - 7s 4ms/step - loss: 14.5064 - accuracy: 0.1000 - val_loss: 14.5063 - val_accuracy: 0.1000\n",
            "Epoch 9/50\n",
            "1563/1563 [==============================] - 8s 5ms/step - loss: 14.5064 - accuracy: 0.1000 - val_loss: 14.5063 - val_accuracy: 0.1000\n",
            "Epoch 10/50\n",
            "1563/1563 [==============================] - 8s 5ms/step - loss: 14.5064 - accuracy: 0.1000 - val_loss: 14.5063 - val_accuracy: 0.1000\n",
            "Epoch 11/50\n",
            "1563/1563 [==============================] - 7s 4ms/step - loss: 14.5064 - accuracy: 0.1000 - val_loss: 14.5063 - val_accuracy: 0.1000\n",
            "Epoch 12/50\n",
            "1563/1563 [==============================] - 6s 4ms/step - loss: 14.5064 - accuracy: 0.1000 - val_loss: 14.5063 - val_accuracy: 0.1000\n",
            "Epoch 13/50\n",
            "1563/1563 [==============================] - 6s 4ms/step - loss: 14.5064 - accuracy: 0.1000 - val_loss: 14.5063 - val_accuracy: 0.1000\n",
            "Epoch 14/50\n",
            "1563/1563 [==============================] - 6s 4ms/step - loss: 14.5064 - accuracy: 0.1000 - val_loss: 14.5063 - val_accuracy: 0.1000\n",
            "Epoch 15/50\n",
            "1563/1563 [==============================] - 7s 4ms/step - loss: 14.5064 - accuracy: 0.1000 - val_loss: 14.5063 - val_accuracy: 0.1000\n",
            "Epoch 16/50\n",
            "1563/1563 [==============================] - 7s 5ms/step - loss: 14.5064 - accuracy: 0.1000 - val_loss: 14.5063 - val_accuracy: 0.1000\n",
            "Epoch 17/50\n",
            "1563/1563 [==============================] - 7s 5ms/step - loss: 14.5064 - accuracy: 0.1000 - val_loss: 14.5063 - val_accuracy: 0.1000\n",
            "Epoch 18/50\n",
            "1563/1563 [==============================] - 9s 5ms/step - loss: 14.5064 - accuracy: 0.1000 - val_loss: 14.5063 - val_accuracy: 0.1000\n",
            "Epoch 19/50\n",
            "1563/1563 [==============================] - 8s 5ms/step - loss: 14.5064 - accuracy: 0.1000 - val_loss: 14.5063 - val_accuracy: 0.1000\n",
            "Epoch 20/50\n",
            "1563/1563 [==============================] - 10s 6ms/step - loss: 14.5064 - accuracy: 0.1000 - val_loss: 14.5063 - val_accuracy: 0.1000\n",
            "Epoch 21/50\n",
            "1563/1563 [==============================] - 7s 5ms/step - loss: 14.5064 - accuracy: 0.1000 - val_loss: 14.5063 - val_accuracy: 0.1000\n",
            "Epoch 22/50\n",
            "1563/1563 [==============================] - 6s 4ms/step - loss: 14.5064 - accuracy: 0.1000 - val_loss: 14.5063 - val_accuracy: 0.1000\n",
            "Epoch 23/50\n",
            "1563/1563 [==============================] - 7s 5ms/step - loss: 14.5064 - accuracy: 0.1000 - val_loss: 14.5063 - val_accuracy: 0.1000\n",
            "Epoch 24/50\n",
            "1563/1563 [==============================] - 9s 6ms/step - loss: 14.5064 - accuracy: 0.1000 - val_loss: 14.5063 - val_accuracy: 0.1000\n",
            "Epoch 25/50\n",
            "1563/1563 [==============================] - 7s 4ms/step - loss: 14.5064 - accuracy: 0.1000 - val_loss: 14.5063 - val_accuracy: 0.1000\n",
            "Epoch 26/50\n",
            "1563/1563 [==============================] - 7s 5ms/step - loss: 14.5064 - accuracy: 0.1000 - val_loss: 14.5063 - val_accuracy: 0.1000\n",
            "Epoch 27/50\n",
            "1563/1563 [==============================] - 7s 5ms/step - loss: 14.5064 - accuracy: 0.1000 - val_loss: 14.5063 - val_accuracy: 0.1000\n",
            "Epoch 28/50\n",
            "1563/1563 [==============================] - 6s 4ms/step - loss: 14.5064 - accuracy: 0.1000 - val_loss: 14.5063 - val_accuracy: 0.1000\n",
            "Epoch 29/50\n",
            "1563/1563 [==============================] - 9s 6ms/step - loss: 14.5064 - accuracy: 0.1000 - val_loss: 14.5063 - val_accuracy: 0.1000\n",
            "Epoch 30/50\n",
            "1563/1563 [==============================] - 7s 4ms/step - loss: 14.5064 - accuracy: 0.1000 - val_loss: 14.5063 - val_accuracy: 0.1000\n",
            "Epoch 31/50\n",
            "1563/1563 [==============================] - 7s 4ms/step - loss: 14.5064 - accuracy: 0.1000 - val_loss: 14.5063 - val_accuracy: 0.1000\n",
            "Epoch 32/50\n",
            "1563/1563 [==============================] - 7s 4ms/step - loss: 14.5064 - accuracy: 0.1000 - val_loss: 14.5063 - val_accuracy: 0.1000\n",
            "Epoch 33/50\n",
            "1563/1563 [==============================] - 6s 4ms/step - loss: 14.5064 - accuracy: 0.1000 - val_loss: 14.5063 - val_accuracy: 0.1000\n",
            "Epoch 34/50\n",
            "1563/1563 [==============================] - 8s 5ms/step - loss: 14.5064 - accuracy: 0.1000 - val_loss: 14.5063 - val_accuracy: 0.1000\n",
            "Epoch 35/50\n",
            "1563/1563 [==============================] - 7s 4ms/step - loss: 14.5064 - accuracy: 0.1000 - val_loss: 14.5063 - val_accuracy: 0.1000\n",
            "Epoch 36/50\n",
            "1563/1563 [==============================] - 6s 4ms/step - loss: 14.5064 - accuracy: 0.1000 - val_loss: 14.5063 - val_accuracy: 0.1000\n",
            "Epoch 37/50\n",
            "1563/1563 [==============================] - 7s 4ms/step - loss: 14.5064 - accuracy: 0.1000 - val_loss: 14.5063 - val_accuracy: 0.1000\n",
            "Epoch 38/50\n",
            "1563/1563 [==============================] - 9s 6ms/step - loss: 14.5064 - accuracy: 0.1000 - val_loss: 14.5063 - val_accuracy: 0.1000\n",
            "Epoch 39/50\n",
            "1563/1563 [==============================] - 9s 6ms/step - loss: 14.5064 - accuracy: 0.1000 - val_loss: 14.5063 - val_accuracy: 0.1000\n",
            "Epoch 40/50\n",
            "1563/1563 [==============================] - 7s 5ms/step - loss: 14.5064 - accuracy: 0.1000 - val_loss: 14.5063 - val_accuracy: 0.1000\n",
            "Epoch 41/50\n",
            "1563/1563 [==============================] - 6s 4ms/step - loss: 14.5064 - accuracy: 0.1000 - val_loss: 14.5063 - val_accuracy: 0.1000\n",
            "Epoch 42/50\n",
            "1563/1563 [==============================] - 7s 4ms/step - loss: 14.5064 - accuracy: 0.1000 - val_loss: 14.5063 - val_accuracy: 0.1000\n",
            "Epoch 43/50\n",
            "1563/1563 [==============================] - 6s 4ms/step - loss: 14.5064 - accuracy: 0.1000 - val_loss: 14.5063 - val_accuracy: 0.1000\n",
            "Epoch 44/50\n",
            "1563/1563 [==============================] - 7s 4ms/step - loss: 14.5064 - accuracy: 0.1000 - val_loss: 14.5063 - val_accuracy: 0.1000\n",
            "Epoch 45/50\n",
            "1563/1563 [==============================] - 7s 4ms/step - loss: 14.5064 - accuracy: 0.1000 - val_loss: 14.5063 - val_accuracy: 0.1000\n",
            "Epoch 46/50\n",
            "1563/1563 [==============================] - 10s 7ms/step - loss: 14.5064 - accuracy: 0.1000 - val_loss: 14.5063 - val_accuracy: 0.1000\n",
            "Epoch 47/50\n",
            "1563/1563 [==============================] - 7s 4ms/step - loss: 14.5064 - accuracy: 0.1000 - val_loss: 14.5063 - val_accuracy: 0.1000\n",
            "Epoch 48/50\n",
            "1563/1563 [==============================] - 8s 5ms/step - loss: 14.5064 - accuracy: 0.1000 - val_loss: 14.5063 - val_accuracy: 0.1000\n",
            "Epoch 49/50\n",
            "1563/1563 [==============================] - 9s 5ms/step - loss: 14.5064 - accuracy: 0.1000 - val_loss: 14.5063 - val_accuracy: 0.1000\n",
            "Epoch 50/50\n",
            "1563/1563 [==============================] - 8s 5ms/step - loss: 14.5064 - accuracy: 0.1000 - val_loss: 14.5063 - val_accuracy: 0.1000\n"
          ]
        }
      ]
    },
    {
      "cell_type": "code",
      "source": [
        "# Plot metrics\n",
        "fig = plt.figure()\n",
        "ax = plt.axes()\n",
        "\n",
        "ax.plot(history_netA.history['accuracy'], label='accuracy')\n",
        "ax.plot(history_netA.history['val_accuracy'], label='val_accuracy')\n",
        "ax.set_title('NetA accuracy')\n",
        "ax.set_xlabel('epochs')\n",
        "ax.set_ylabel('accuracy')\n",
        "ax.legend()"
      ],
      "metadata": {
        "colab": {
          "base_uri": "https://localhost:8080/",
          "height": 312
        },
        "id": "hEIplVJNrpvf",
        "outputId": "a9293983-bad7-4fce-8983-142aabc6f083"
      },
      "execution_count": 21,
      "outputs": [
        {
          "output_type": "execute_result",
          "data": {
            "text/plain": [
              "<matplotlib.legend.Legend at 0x7f2996c41410>"
            ]
          },
          "metadata": {},
          "execution_count": 21
        },
        {
          "output_type": "display_data",
          "data": {
            "image/png": "[encoded data removed]",
            "text/plain": [
              "<Figure size 432x288 with 1 Axes>"
            ]
          },
          "metadata": {
            "needs_background": "light"
          }
        }
      ]
    },
    {
      "cell_type": "markdown",
      "source": [
        "### Net B"
      ],
      "metadata": {
        "id": "Okc5l6ALr6H2"
      }
    },
    {
      "cell_type": "code",
      "source": [
        "class NetB():\n",
        "  \"\"\"Instantiates netB with a Flatten layer and two Dense layers\"\"\"\n",
        "  def __init__(self):\n",
        "    self.model = self.create_model()\n",
        "    self.create_model()\n",
        "\n",
        "  def create_model(self):\n",
        "    input = tf.keras.layers.Input(shape=(32,32,3))\n",
        "    x = tf.keras.layers.Flatten()(input)\n",
        "    x = tf.keras.layers.Dense(300, activation=\"relu\")(x)\n",
        "    x = tf.keras.layers.Dense(10, activation='softmax')(x)\n",
        "\n",
        "    self.model = tf.keras.models.Model(inputs=input, outputs=x)"
      ],
      "metadata": {
        "id": "kTgtLSTGr39-"
      },
      "execution_count": 22,
      "outputs": []
    },
    {
      "cell_type": "code",
      "source": [
        "# Peek at model\n",
        "netB = NetB()\n",
        "netB.model.summary()\n",
        "tf.keras.utils.plot_model(netB.model)"
      ],
      "metadata": {
        "colab": {
          "base_uri": "https://localhost:8080/",
          "height": 664
        },
        "id": "OKXb1GqgsRap",
        "outputId": "8bcbfad7-6712-44a0-d319-e179997701be"
      },
      "execution_count": 23,
      "outputs": [
        {
          "output_type": "stream",
          "name": "stdout",
          "text": [
            "Model: \"model_7\"\n",
            "_________________________________________________________________\n",
            " Layer (type)                Output Shape              Param #   \n",
            "=================================================================\n",
            " input_8 (InputLayer)        [(None, 32, 32, 3)]       0         \n",
            "                                                                 \n",
            " flatten_7 (Flatten)         (None, 3072)              0         \n",
            "                                                                 \n",
            " dense_8 (Dense)             (None, 300)               921900    \n",
            "                                                                 \n",
            " dense_9 (Dense)             (None, 10)                3010      \n",
            "                                                                 \n",
            "=================================================================\n",
            "Total params: 924,910\n",
            "Trainable params: 924,910\n",
            "Non-trainable params: 0\n",
            "_________________________________________________________________\n"
          ]
        },
        {
          "output_type": "execute_result",
          "data": {
            "image/png": "[encoded data removed]",
            "text/plain": [
              "<IPython.core.display.Image object>"
            ]
          },
          "metadata": {},
          "execution_count": 23
        }
      ]
    },
    {
      "cell_type": "code",
      "source": [
        "# Reload data\n",
        "(x_train, y_train), (x_test, y_test) = tf.keras.datasets.cifar10.load_data()"
      ],
      "metadata": {
        "id": "Xp7SI2_IsX8L"
      },
      "execution_count": 24,
      "outputs": []
    },
    {
      "cell_type": "code",
      "source": [
        "# Compile model\n",
        "netB.model.compile(loss=\"sparse_categorical_crossentropy\", optimizer=\"adam\", metrics=['accuracy'])"
      ],
      "metadata": {
        "id": "xC1yv-SJsc9I"
      },
      "execution_count": 25,
      "outputs": []
    },
    {
      "cell_type": "code",
      "source": [
        "# Train model\n",
        "history_netB = netB.model.fit(x_train, y_train, validation_data=(x_test, y_test), epochs=50, verbose=1)"
      ],
      "metadata": {
        "colab": {
          "base_uri": "https://localhost:8080/"
        },
        "id": "IxbVMTs6stsY",
        "outputId": "373fb67d-e1c6-487c-a7c6-dd151bc371ea"
      },
      "execution_count": 26,
      "outputs": [
        {
          "output_type": "stream",
          "name": "stdout",
          "text": [
            "Epoch 1/50\n",
            "1563/1563 [==============================] - 21s 13ms/step - loss: 13.4715 - accuracy: 0.0986 - val_loss: 2.3050 - val_accuracy: 0.1000\n",
            "Epoch 2/50\n",
            "1563/1563 [==============================] - 20s 13ms/step - loss: 2.3038 - accuracy: 0.1000 - val_loss: 2.3052 - val_accuracy: 0.0997\n",
            "Epoch 3/50\n",
            "1563/1563 [==============================] - 26s 16ms/step - loss: 2.3026 - accuracy: 0.0988 - val_loss: 2.3045 - val_accuracy: 0.1000\n",
            "Epoch 4/50\n",
            "1563/1563 [==============================] - 22s 14ms/step - loss: 2.3029 - accuracy: 0.0978 - val_loss: 2.3045 - val_accuracy: 0.1000\n",
            "Epoch 5/50\n",
            "1563/1563 [==============================] - 27s 18ms/step - loss: 2.3027 - accuracy: 0.1003 - val_loss: 2.3044 - val_accuracy: 0.1000\n",
            "Epoch 6/50\n",
            "1563/1563 [==============================] - 24s 15ms/step - loss: 2.3027 - accuracy: 0.0985 - val_loss: 2.3045 - val_accuracy: 0.1000\n",
            "Epoch 7/50\n",
            "1563/1563 [==============================] - 22s 14ms/step - loss: 2.3027 - accuracy: 0.0995 - val_loss: 2.3046 - val_accuracy: 0.1000\n",
            "Epoch 8/50\n",
            "1563/1563 [==============================] - 23s 15ms/step - loss: 2.3028 - accuracy: 0.0956 - val_loss: 2.3045 - val_accuracy: 0.1000\n",
            "Epoch 9/50\n",
            "1563/1563 [==============================] - 26s 17ms/step - loss: 2.3027 - accuracy: 0.0996 - val_loss: 2.3046 - val_accuracy: 0.1000\n",
            "Epoch 10/50\n",
            "1563/1563 [==============================] - 22s 14ms/step - loss: 2.3027 - accuracy: 0.0978 - val_loss: 2.3046 - val_accuracy: 0.1000\n",
            "Epoch 11/50\n",
            "1563/1563 [==============================] - 19s 12ms/step - loss: 2.3027 - accuracy: 0.0985 - val_loss: 2.3046 - val_accuracy: 0.1000\n",
            "Epoch 12/50\n",
            "1563/1563 [==============================] - 21s 13ms/step - loss: 2.3028 - accuracy: 0.0983 - val_loss: 2.3045 - val_accuracy: 0.1000\n",
            "Epoch 13/50\n",
            "1563/1563 [==============================] - 21s 13ms/step - loss: 2.3027 - accuracy: 0.0993 - val_loss: 2.3046 - val_accuracy: 0.1000\n",
            "Epoch 14/50\n",
            "1563/1563 [==============================] - 19s 12ms/step - loss: 2.3027 - accuracy: 0.0996 - val_loss: 2.3046 - val_accuracy: 0.1000\n",
            "Epoch 15/50\n",
            "1563/1563 [==============================] - 20s 13ms/step - loss: 2.3421 - accuracy: 0.0986 - val_loss: 2.3045 - val_accuracy: 0.0998\n",
            "Epoch 16/50\n",
            "1563/1563 [==============================] - 18s 12ms/step - loss: 2.3028 - accuracy: 0.0984 - val_loss: 2.3045 - val_accuracy: 0.0998\n",
            "Epoch 17/50\n",
            "1563/1563 [==============================] - 18s 11ms/step - loss: 2.3028 - accuracy: 0.0971 - val_loss: 2.3045 - val_accuracy: 0.1000\n",
            "Epoch 18/50\n",
            "1563/1563 [==============================] - 18s 12ms/step - loss: 2.3028 - accuracy: 0.0971 - val_loss: 2.3045 - val_accuracy: 0.0998\n",
            "Epoch 19/50\n",
            "1563/1563 [==============================] - 20s 13ms/step - loss: 2.3028 - accuracy: 0.0966 - val_loss: 2.3046 - val_accuracy: 0.1000\n",
            "Epoch 20/50\n",
            "1563/1563 [==============================] - 19s 12ms/step - loss: 2.3028 - accuracy: 0.0982 - val_loss: 2.3045 - val_accuracy: 0.1000\n",
            "Epoch 21/50\n",
            "1563/1563 [==============================] - 19s 12ms/step - loss: 2.3028 - accuracy: 0.0983 - val_loss: 2.3045 - val_accuracy: 0.1000\n",
            "Epoch 22/50\n",
            "1563/1563 [==============================] - 19s 12ms/step - loss: 2.3028 - accuracy: 0.0991 - val_loss: 2.3045 - val_accuracy: 0.1000\n",
            "Epoch 23/50\n",
            "1563/1563 [==============================] - 20s 13ms/step - loss: 2.3028 - accuracy: 0.0976 - val_loss: 2.3045 - val_accuracy: 0.1000\n",
            "Epoch 24/50\n",
            "1563/1563 [==============================] - 21s 14ms/step - loss: 2.3027 - accuracy: 0.1003 - val_loss: 2.3046 - val_accuracy: 0.1000\n",
            "Epoch 25/50\n",
            "1563/1563 [==============================] - 20s 13ms/step - loss: 2.3028 - accuracy: 0.0964 - val_loss: 2.3045 - val_accuracy: 0.1000\n",
            "Epoch 26/50\n",
            "1563/1563 [==============================] - 20s 12ms/step - loss: 2.3028 - accuracy: 0.0972 - val_loss: 2.3045 - val_accuracy: 0.1000\n",
            "Epoch 27/50\n",
            "1563/1563 [==============================] - 18s 12ms/step - loss: 2.3028 - accuracy: 0.0997 - val_loss: 2.3046 - val_accuracy: 0.0998\n",
            "Epoch 28/50\n",
            "1563/1563 [==============================] - 20s 13ms/step - loss: 2.3028 - accuracy: 0.0989 - val_loss: 2.3046 - val_accuracy: 0.1000\n",
            "Epoch 29/50\n",
            "1563/1563 [==============================] - 21s 13ms/step - loss: 2.3028 - accuracy: 0.0973 - val_loss: 2.3045 - val_accuracy: 0.1000\n",
            "Epoch 30/50\n",
            "1563/1563 [==============================] - 21s 13ms/step - loss: 2.3028 - accuracy: 0.0971 - val_loss: 2.3045 - val_accuracy: 0.1000\n",
            "Epoch 31/50\n",
            "1563/1563 [==============================] - 19s 12ms/step - loss: 2.3028 - accuracy: 0.1000 - val_loss: 2.3045 - val_accuracy: 0.0998\n",
            "Epoch 32/50\n",
            "1563/1563 [==============================] - 19s 12ms/step - loss: 2.3028 - accuracy: 0.1001 - val_loss: 2.3046 - val_accuracy: 0.1000\n",
            "Epoch 33/50\n",
            "1563/1563 [==============================] - 19s 12ms/step - loss: 2.3028 - accuracy: 0.0983 - val_loss: 2.3046 - val_accuracy: 0.1000\n",
            "Epoch 34/50\n",
            "1563/1563 [==============================] - 18s 12ms/step - loss: 2.3028 - accuracy: 0.1002 - val_loss: 2.3045 - val_accuracy: 0.1000\n",
            "Epoch 35/50\n",
            "1563/1563 [==============================] - 18s 12ms/step - loss: 2.3028 - accuracy: 0.0982 - val_loss: 2.3045 - val_accuracy: 0.1000\n",
            "Epoch 36/50\n",
            "1563/1563 [==============================] - 18s 11ms/step - loss: 2.3028 - accuracy: 0.1003 - val_loss: 2.3045 - val_accuracy: 0.1000\n",
            "Epoch 37/50\n",
            "1563/1563 [==============================] - 19s 12ms/step - loss: 2.3028 - accuracy: 0.0989 - val_loss: 2.3045 - val_accuracy: 0.1000\n",
            "Epoch 38/50\n",
            "1563/1563 [==============================] - 18s 12ms/step - loss: 2.3028 - accuracy: 0.0999 - val_loss: 2.3046 - val_accuracy: 0.1000\n",
            "Epoch 39/50\n",
            "1563/1563 [==============================] - 19s 12ms/step - loss: 2.3027 - accuracy: 0.1014 - val_loss: 2.3046 - val_accuracy: 0.1000\n",
            "Epoch 40/50\n",
            "1563/1563 [==============================] - 18s 12ms/step - loss: 2.3028 - accuracy: 0.0983 - val_loss: 2.3046 - val_accuracy: 0.1000\n",
            "Epoch 41/50\n",
            "1563/1563 [==============================] - 19s 12ms/step - loss: 2.3028 - accuracy: 0.0989 - val_loss: 2.3046 - val_accuracy: 0.1000\n",
            "Epoch 42/50\n",
            "1563/1563 [==============================] - 20s 13ms/step - loss: 2.3028 - accuracy: 0.0981 - val_loss: 2.3046 - val_accuracy: 0.1000\n",
            "Epoch 43/50\n",
            "1563/1563 [==============================] - 19s 12ms/step - loss: 2.3028 - accuracy: 0.0958 - val_loss: 2.3045 - val_accuracy: 0.1000\n",
            "Epoch 44/50\n",
            "1563/1563 [==============================] - 19s 12ms/step - loss: 2.3028 - accuracy: 0.0975 - val_loss: 2.3046 - val_accuracy: 0.0998\n",
            "Epoch 45/50\n",
            "1563/1563 [==============================] - 18s 12ms/step - loss: 2.3028 - accuracy: 0.0983 - val_loss: 2.3046 - val_accuracy: 0.0998\n",
            "Epoch 46/50\n",
            "1563/1563 [==============================] - 20s 13ms/step - loss: 2.3028 - accuracy: 0.0974 - val_loss: 2.3045 - val_accuracy: 0.1000\n",
            "Epoch 47/50\n",
            "1563/1563 [==============================] - 19s 12ms/step - loss: 2.3028 - accuracy: 0.0985 - val_loss: 2.3046 - val_accuracy: 0.1000\n",
            "Epoch 48/50\n",
            "1563/1563 [==============================] - 21s 13ms/step - loss: 2.3028 - accuracy: 0.0982 - val_loss: 2.3045 - val_accuracy: 0.1000\n",
            "Epoch 49/50\n",
            "1563/1563 [==============================] - 23s 15ms/step - loss: 2.3028 - accuracy: 0.0985 - val_loss: 2.3045 - val_accuracy: 0.1000\n",
            "Epoch 50/50\n",
            "1563/1563 [==============================] - 20s 13ms/step - loss: 2.3028 - accuracy: 0.0988 - val_loss: 2.3045 - val_accuracy: 0.1000\n"
          ]
        }
      ]
    },
    {
      "cell_type": "code",
      "source": [
        "# Plot matrics\n",
        "fig = plt.figure()\n",
        "ax = plt.axes()\n",
        "\n",
        "ax.plot(history_netB.history['accuracy'], label='accuracy')\n",
        "ax.plot(history_netB.history['val_accuracy'], label='val_accuracy')\n",
        "ax.set_title('NetB accuracy')\n",
        "ax.set_xlabel('epochs')\n",
        "ax.set_ylabel('accuracy')\n",
        "ax.legend()"
      ],
      "metadata": {
        "colab": {
          "base_uri": "https://localhost:8080/",
          "height": 312
        },
        "id": "7FUhkmJcs4sq",
        "outputId": "7b327a99-4d32-4372-99ee-f0bff3c54344"
      },
      "execution_count": 27,
      "outputs": [
        {
          "output_type": "execute_result",
          "data": {
            "text/plain": [
              "<matplotlib.legend.Legend at 0x7f2994dab250>"
            ]
          },
          "metadata": {},
          "execution_count": 27
        },
        {
          "output_type": "display_data",
          "data": {
            "image/png": "[encoded data removed]",
            "text/plain": [
              "<Figure size 432x288 with 1 Axes>"
            ]
          },
          "metadata": {
            "needs_background": "light"
          }
        }
      ]
    },
    {
      "cell_type": "markdown",
      "source": [
        "### Net C"
      ],
      "metadata": {
        "id": "MGPvVBxEtBj8"
      }
    },
    {
      "cell_type": "code",
      "source": [
        "class NetC():\n",
        "  \"\"\"Instantiates a model with a Convolutional, Pooling, Flatten and Dense layer.\"\"\"\n",
        "  def __init__(self):\n",
        "    self.model = self.create_model()\n",
        "    # self.create_model()\n",
        "\n",
        "  def create_model(self):\n",
        "    input = tf.keras.layers.Input(shape=(32,32,3))\n",
        "    x = tf.keras.layers.Conv2D(filters=25, kernel_size=5, activation=\"relu\")(input)\n",
        "    x = tf.keras.layers.MaxPooling2D(pool_size=2, strides=2)(x)\n",
        "    x = tf.keras.layers.Flatten()(x)\n",
        "    x = tf.keras.layers.Dense(10, activation='softmax')(x)\n",
        "\n",
        "    return tf.keras.models.Model(inputs=input, outputs=x)"
      ],
      "metadata": {
        "id": "5J_Fpeu3tDQX"
      },
      "execution_count": 28,
      "outputs": []
    },
    {
      "cell_type": "code",
      "source": [
        "# Peek at model\n",
        "netC = NetC()\n",
        "netC.model.summary()\n",
        "tf.keras.utils.plot_model(netC.model)"
      ],
      "metadata": {
        "colab": {
          "base_uri": "https://localhost:8080/",
          "height": 813
        },
        "id": "w1vxy68ztTVq",
        "outputId": "a5cfc250-daf2-458f-a589-dc59743a727a"
      },
      "execution_count": 29,
      "outputs": [
        {
          "output_type": "stream",
          "name": "stdout",
          "text": [
            "Model: \"model_8\"\n",
            "_________________________________________________________________\n",
            " Layer (type)                Output Shape              Param #   \n",
            "=================================================================\n",
            " input_9 (InputLayer)        [(None, 32, 32, 3)]       0         \n",
            "                                                                 \n",
            " conv2d (Conv2D)             (None, 28, 28, 25)        1900      \n",
            "                                                                 \n",
            " max_pooling2d (MaxPooling2D  (None, 14, 14, 25)       0         \n",
            " )                                                               \n",
            "                                                                 \n",
            " flatten_8 (Flatten)         (None, 4900)              0         \n",
            "                                                                 \n",
            " dense_10 (Dense)            (None, 10)                49010     \n",
            "                                                                 \n",
            "=================================================================\n",
            "Total params: 50,910\n",
            "Trainable params: 50,910\n",
            "Non-trainable params: 0\n",
            "_________________________________________________________________\n"
          ]
        },
        {
          "output_type": "execute_result",
          "data": {
            "image/png": "[encoded data removed]",
            "text/plain": [
              "<IPython.core.display.Image object>"
            ]
          },
          "metadata": {},
          "execution_count": 29
        }
      ]
    },
    {
      "cell_type": "code",
      "source": [
        "# Reload data\n",
        "(x_train, y_train), (x_test, y_test) = tf.keras.datasets.cifar10.load_data()"
      ],
      "metadata": {
        "id": "cG1S1ySHtY3-"
      },
      "execution_count": 30,
      "outputs": []
    },
    {
      "cell_type": "code",
      "source": [
        "# Compile model\n",
        "netC.model.compile(loss=\"sparse_categorical_crossentropy\", optimizer=\"adam\", metrics=['accuracy'])"
      ],
      "metadata": {
        "id": "IjFSXA9qta08"
      },
      "execution_count": 31,
      "outputs": []
    },
    {
      "cell_type": "code",
      "source": [
        "# Train model\n",
        "history_netC = netC.model.fit(x_train, y_train, validation_data=(x_test, y_test), epochs=50, verbose=1)"
      ],
      "metadata": {
        "colab": {
          "base_uri": "https://localhost:8080/"
        },
        "id": "UDMAjhDItme8",
        "outputId": "37a7a7d0-93cd-4549-80e4-b3b79db75e75"
      },
      "execution_count": 32,
      "outputs": [
        {
          "output_type": "stream",
          "name": "stdout",
          "text": [
            "Epoch 1/50\n",
            "1563/1563 [==============================] - 48s 31ms/step - loss: 2.7933 - accuracy: 0.1353 - val_loss: 2.3005 - val_accuracy: 0.1096\n",
            "Epoch 2/50\n",
            "1563/1563 [==============================] - 48s 30ms/step - loss: 2.2322 - accuracy: 0.1693 - val_loss: 2.3076 - val_accuracy: 0.1134\n",
            "Epoch 3/50\n",
            "1563/1563 [==============================] - 47s 30ms/step - loss: 2.1650 - accuracy: 0.2043 - val_loss: 2.2286 - val_accuracy: 0.1600\n",
            "Epoch 4/50\n",
            "1563/1563 [==============================] - 46s 30ms/step - loss: 2.0978 - accuracy: 0.2333 - val_loss: 2.1752 - val_accuracy: 0.2374\n",
            "Epoch 5/50\n",
            "1563/1563 [==============================] - 47s 30ms/step - loss: 2.0449 - accuracy: 0.2528 - val_loss: 2.1724 - val_accuracy: 0.2542\n",
            "Epoch 6/50\n",
            "1563/1563 [==============================] - 47s 30ms/step - loss: 2.0092 - accuracy: 0.2671 - val_loss: 2.1147 - val_accuracy: 0.2585\n",
            "Epoch 7/50\n",
            "1563/1563 [==============================] - 48s 30ms/step - loss: 1.9496 - accuracy: 0.2898 - val_loss: 2.2330 - val_accuracy: 0.2837\n",
            "Epoch 8/50\n",
            "1563/1563 [==============================] - 47s 30ms/step - loss: 1.9340 - accuracy: 0.2943 - val_loss: 2.0971 - val_accuracy: 0.2803\n",
            "Epoch 9/50\n",
            "1563/1563 [==============================] - 47s 30ms/step - loss: 1.8877 - accuracy: 0.3147 - val_loss: 2.1504 - val_accuracy: 0.2865\n",
            "Epoch 10/50\n",
            "1563/1563 [==============================] - 45s 29ms/step - loss: 2.1423 - accuracy: 0.2125 - val_loss: 2.5167 - val_accuracy: 0.1608\n",
            "Epoch 11/50\n",
            "1563/1563 [==============================] - 46s 30ms/step - loss: 2.0599 - accuracy: 0.2362 - val_loss: 2.4917 - val_accuracy: 0.1959\n",
            "Epoch 12/50\n",
            "1563/1563 [==============================] - 47s 30ms/step - loss: 2.0394 - accuracy: 0.2438 - val_loss: 2.6080 - val_accuracy: 0.1996\n",
            "Epoch 13/50\n",
            "1563/1563 [==============================] - 45s 29ms/step - loss: 2.0245 - accuracy: 0.2465 - val_loss: 2.7679 - val_accuracy: 0.1540\n",
            "Epoch 14/50\n",
            "1563/1563 [==============================] - 46s 29ms/step - loss: 2.0092 - accuracy: 0.2526 - val_loss: 2.7748 - val_accuracy: 0.1739\n",
            "Epoch 15/50\n",
            "1563/1563 [==============================] - 46s 30ms/step - loss: 1.9941 - accuracy: 0.2566 - val_loss: 2.9447 - val_accuracy: 0.1415\n",
            "Epoch 16/50\n",
            "1563/1563 [==============================] - 46s 29ms/step - loss: 1.9723 - accuracy: 0.2651 - val_loss: 2.9053 - val_accuracy: 0.1872\n",
            "Epoch 17/50\n",
            "1563/1563 [==============================] - 46s 29ms/step - loss: 1.9637 - accuracy: 0.2701 - val_loss: 3.0452 - val_accuracy: 0.2071\n",
            "Epoch 18/50\n",
            "1563/1563 [==============================] - 46s 29ms/step - loss: 1.9524 - accuracy: 0.2745 - val_loss: 3.0993 - val_accuracy: 0.1931\n",
            "Epoch 19/50\n",
            "1563/1563 [==============================] - 46s 30ms/step - loss: 1.9459 - accuracy: 0.2767 - val_loss: 3.3822 - val_accuracy: 0.1401\n",
            "Epoch 20/50\n",
            "1563/1563 [==============================] - 46s 29ms/step - loss: 1.9291 - accuracy: 0.2820 - val_loss: 3.4377 - val_accuracy: 0.1531\n",
            "Epoch 21/50\n",
            "1563/1563 [==============================] - 46s 29ms/step - loss: 1.9223 - accuracy: 0.2890 - val_loss: 3.3624 - val_accuracy: 0.2078\n",
            "Epoch 22/50\n",
            "1563/1563 [==============================] - 45s 29ms/step - loss: 1.9140 - accuracy: 0.2929 - val_loss: 3.7329 - val_accuracy: 0.1830\n",
            "Epoch 23/50\n",
            "1563/1563 [==============================] - 48s 31ms/step - loss: 1.8956 - accuracy: 0.2991 - val_loss: 3.5505 - val_accuracy: 0.1817\n",
            "Epoch 24/50\n",
            "1563/1563 [==============================] - 46s 30ms/step - loss: 1.8841 - accuracy: 0.3035 - val_loss: 3.7222 - val_accuracy: 0.2034\n",
            "Epoch 25/50\n",
            "1563/1563 [==============================] - 46s 29ms/step - loss: 1.8724 - accuracy: 0.3093 - val_loss: 3.7369 - val_accuracy: 0.2087\n",
            "Epoch 26/50\n",
            "1563/1563 [==============================] - 45s 29ms/step - loss: 1.8522 - accuracy: 0.3169 - val_loss: 3.8976 - val_accuracy: 0.2388\n",
            "Epoch 27/50\n",
            "1563/1563 [==============================] - 46s 30ms/step - loss: 1.8379 - accuracy: 0.3242 - val_loss: 4.0792 - val_accuracy: 0.2404\n",
            "Epoch 28/50\n",
            "1563/1563 [==============================] - 47s 30ms/step - loss: 1.8194 - accuracy: 0.3342 - val_loss: 4.2125 - val_accuracy: 0.2411\n",
            "Epoch 29/50\n",
            "1563/1563 [==============================] - 46s 29ms/step - loss: 1.8011 - accuracy: 0.3410 - val_loss: 4.1527 - val_accuracy: 0.2520\n",
            "Epoch 30/50\n",
            "1563/1563 [==============================] - 46s 29ms/step - loss: 1.7931 - accuracy: 0.3394 - val_loss: 4.2061 - val_accuracy: 0.2611\n",
            "Epoch 31/50\n",
            "1563/1563 [==============================] - 45s 29ms/step - loss: 1.7817 - accuracy: 0.3451 - val_loss: 4.2459 - val_accuracy: 0.2397\n",
            "Epoch 32/50\n",
            "1563/1563 [==============================] - 46s 30ms/step - loss: 1.7768 - accuracy: 0.3494 - val_loss: 4.7348 - val_accuracy: 0.2624\n",
            "Epoch 33/50\n",
            "1563/1563 [==============================] - 45s 29ms/step - loss: 1.7708 - accuracy: 0.3518 - val_loss: 4.5168 - val_accuracy: 0.2551\n",
            "Epoch 34/50\n",
            "1563/1563 [==============================] - 45s 29ms/step - loss: 1.7605 - accuracy: 0.3524 - val_loss: 4.7132 - val_accuracy: 0.2531\n",
            "Epoch 35/50\n",
            "1563/1563 [==============================] - 47s 30ms/step - loss: 1.7708 - accuracy: 0.3552 - val_loss: 4.7208 - val_accuracy: 0.2690\n",
            "Epoch 36/50\n",
            "1563/1563 [==============================] - 46s 30ms/step - loss: 1.7633 - accuracy: 0.3534 - val_loss: 5.2516 - val_accuracy: 0.1370\n",
            "Epoch 37/50\n",
            "1563/1563 [==============================] - 46s 30ms/step - loss: 1.7768 - accuracy: 0.3458 - val_loss: 4.6734 - val_accuracy: 0.2471\n",
            "Epoch 38/50\n",
            "1563/1563 [==============================] - 46s 29ms/step - loss: 1.7765 - accuracy: 0.3517 - val_loss: 4.9097 - val_accuracy: 0.2462\n",
            "Epoch 39/50\n",
            "1563/1563 [==============================] - 46s 29ms/step - loss: 1.7563 - accuracy: 0.3566 - val_loss: 5.5947 - val_accuracy: 0.1779\n",
            "Epoch 40/50\n",
            "1563/1563 [==============================] - 46s 30ms/step - loss: 1.7532 - accuracy: 0.3582 - val_loss: 5.2904 - val_accuracy: 0.2402\n",
            "Epoch 41/50\n",
            "1563/1563 [==============================] - 46s 30ms/step - loss: 1.7402 - accuracy: 0.3613 - val_loss: 5.1615 - val_accuracy: 0.2643\n",
            "Epoch 42/50\n",
            "1563/1563 [==============================] - 46s 30ms/step - loss: 1.7730 - accuracy: 0.3542 - val_loss: 5.4177 - val_accuracy: 0.2316\n",
            "Epoch 43/50\n",
            "1563/1563 [==============================] - 47s 30ms/step - loss: 1.7678 - accuracy: 0.3581 - val_loss: 5.9535 - val_accuracy: 0.1676\n",
            "Epoch 44/50\n",
            "1563/1563 [==============================] - 47s 30ms/step - loss: 1.7355 - accuracy: 0.3633 - val_loss: 5.5442 - val_accuracy: 0.2678\n",
            "Epoch 45/50\n",
            "1563/1563 [==============================] - 47s 30ms/step - loss: 1.7448 - accuracy: 0.3622 - val_loss: 5.7516 - val_accuracy: 0.1918\n",
            "Epoch 46/50\n",
            "1563/1563 [==============================] - 46s 30ms/step - loss: 1.7475 - accuracy: 0.3575 - val_loss: 6.1010 - val_accuracy: 0.1385\n",
            "Epoch 47/50\n",
            "1563/1563 [==============================] - 46s 29ms/step - loss: 1.7761 - accuracy: 0.3536 - val_loss: 6.1190 - val_accuracy: 0.2020\n",
            "Epoch 48/50\n",
            "1563/1563 [==============================] - 46s 30ms/step - loss: 1.7277 - accuracy: 0.3666 - val_loss: 6.2644 - val_accuracy: 0.2432\n",
            "Epoch 49/50\n",
            "1563/1563 [==============================] - 46s 30ms/step - loss: 1.7303 - accuracy: 0.3660 - val_loss: 6.0535 - val_accuracy: 0.2584\n",
            "Epoch 50/50\n",
            "1563/1563 [==============================] - 46s 30ms/step - loss: 1.7334 - accuracy: 0.3649 - val_loss: 6.6279 - val_accuracy: 0.1901\n"
          ]
        }
      ]
    },
    {
      "cell_type": "code",
      "source": [
        "# Plot metrics\n",
        "fig = plt.figure()\n",
        "ax = plt.axes()\n",
        "\n",
        "ax.plot(history_netC.history['accuracy'], label='accuracy')\n",
        "ax.plot(history_netC.history['val_accuracy'], label='val_accuracy')\n",
        "ax.set_title('NetC accuracy')\n",
        "ax.set_xlabel('epochs')\n",
        "ax.set_ylabel('accuracy')\n",
        "ax.legend()"
      ],
      "metadata": {
        "colab": {
          "base_uri": "https://localhost:8080/",
          "height": 312
        },
        "id": "-XGV6CSMtr4O",
        "outputId": "f4a36efd-0091-447f-8ca7-d875abc5bf07"
      },
      "execution_count": 33,
      "outputs": [
        {
          "output_type": "execute_result",
          "data": {
            "text/plain": [
              "<matplotlib.legend.Legend at 0x7f29980ea950>"
            ]
          },
          "metadata": {},
          "execution_count": 33
        },
        {
          "output_type": "display_data",
          "data": {
            "image/png": "[encoded data removed]",
            "text/plain": [
              "<Figure size 432x288 with 1 Axes>"
            ]
          },
          "metadata": {
            "needs_background": "light"
          }
        }
      ]
    },
    {
      "cell_type": "markdown",
      "source": [
        "### Comparing models"
      ],
      "metadata": {
        "id": "G28v41Y9t02M"
      }
    },
    {
      "cell_type": "code",
      "source": [
        "histories = [history_netA, history_netB, history_netC]\n",
        "\n",
        "fig = plt.figure()\n",
        "ax = plt.axes()\n",
        "ax.plot(history_netA.history['val_accuracy'], label='NetA accuracy')\n",
        "ax.plot(history_netB.history['val_accuracy'], label='NetB accuracy')\n",
        "ax.plot(history_netC.history['val_accuracy'], label='NetC accuracy')\n",
        "ax.set_xlabel('Epochs')\n",
        "ax.set_ylabel('Test accuracy')\n",
        "ax.legend()"
      ],
      "metadata": {
        "colab": {
          "base_uri": "https://localhost:8080/",
          "height": 296
        },
        "id": "s_6sHzg0t3tE",
        "outputId": "8c11781a-30cf-4073-f539-14667767a139"
      },
      "execution_count": 34,
      "outputs": [
        {
          "output_type": "execute_result",
          "data": {
            "text/plain": [
              "<matplotlib.legend.Legend at 0x7f2998a59bd0>"
            ]
          },
          "metadata": {},
          "execution_count": 34
        },
        {
          "output_type": "display_data",
          "data": {
            "image/png": "[encoded data removed]",
            "text/plain": [
              "<Figure size 432x288 with 1 Axes>"
            ]
          },
          "metadata": {
            "needs_background": "light"
          }
        }
      ]
    }
  ]
}